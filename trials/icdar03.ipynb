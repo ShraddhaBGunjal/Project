{
 "cells": [
  {
   "cell_type": "code",
   "execution_count": 46,
   "metadata": {
    "collapsed": false
   },
   "outputs": [],
   "source": [
    "%matplotlib inline\n",
    "import os\n",
    "import sys\n",
    "import pylab\n",
    "import random\n",
    "from random import randint, uniform\n",
    "from skimage.util import crop\n",
    "from skimage import transform\n",
    "import numpy as np\n",
    "import pandas as pd\n",
    "import cPickle as pkl\n",
    "from lasagne import layers\n",
    "from bs4 import BeautifulSoup as bs\n",
    "from lasagne import updates\n",
    "import lasagne as nn\n",
    "from theano.tensor.nnet import softmax\n",
    "from scipy.misc import imread, imresize\n",
    "from nolearn.lasagne import NeuralNet, BatchIterator\n",
    "from sklearn.cross_validation import train_test_split\n",
    "from sklearn.metrics import classification_report, accuracy_score\n",
    "\n",
    "repo_location = '/workspace/.project/project/'\n",
    "data_root = os.path.join(os.path.expanduser('~') + repo_location + 'datasets/')\n",
    "script_root = os.path.join(os.path.expanduser('~') + repo_location + 'scripts/')\n",
    "model_root = os.path.join(os.path.expanduser('~') + repo_location + 'models/')"
   ]
  },
  {
   "cell_type": "code",
   "execution_count": 8,
   "metadata": {
    "collapsed": false
   },
   "outputs": [
    {
     "name": "stdout",
     "output_type": "stream",
     "text": [
      "Loaded icdar03\n"
     ]
    }
   ],
   "source": [
    "# Load dataset\n",
    "train_soup = bs(open(data_root + 'icdar03/train/char/char.xml').read(), 'lxml-xml')\n",
    "test_soup = bs(open(data_root + 'icdar03/test/char/char.xml').read(), 'lxml-xml')\n",
    "\n",
    "X_train = []\n",
    "y_train = []\n",
    "X_test = []\n",
    "y_test = []\n",
    "\n",
    "for image in train_soup('image'):\n",
    "    try:\n",
    "        img = imread(data_root + 'icdar03/train/char/' + image['file'])\n",
    "        X_train.append(img)\n",
    "        y_train.append(image['tag'])\n",
    "    except:\n",
    "        pass\n",
    "    \n",
    "for image in test_soup('image'):\n",
    "    try:\n",
    "        img = imread(data_root + 'icdar03/test/char/' + image['file'])\n",
    "        X_test.append(img)\n",
    "        y_test.append(image['tag'])\n",
    "    except:\n",
    "        pass\n",
    "\n",
    "    \n",
    "data_train = pd.DataFrame({'image' : X_train, 'label' : y_train})\n",
    "data_test = pd.DataFrame({'image' : X_test, 'label' : y_test})\n",
    "\n",
    "print 'Loaded icdar03'"
   ]
  },
  {
   "cell_type": "code",
   "execution_count": 9,
   "metadata": {
    "collapsed": false
   },
   "outputs": [
    {
     "name": "stdout",
     "output_type": "stream",
     "text": [
      "icdar03 reshaped and grayscaled\n"
     ]
    }
   ],
   "source": [
    "# Reshape images to 32x32 and convert to grayscale\n",
    "data_train_x = np.zeros((data_train['image'].count(), 1, 32, 32))\n",
    "data_train_y = data_train['label'].values\n",
    "data_test_x = np.zeros((data_test['image'].count(), 1, 32, 32))\n",
    "data_test_y = data_test['label'].values\n",
    "\n",
    "for idx, img in enumerate(data_train['image']):\n",
    "    img = imresize(img, (32, 32))\n",
    "    if len(img.shape) == 3:\n",
    "        data_train_x[idx, ...] = img.dot([0.299, 0.587, 0.144])\n",
    "    else:\n",
    "        data_train_x[idx, ...] = img\n",
    "        \n",
    "for idx, img in enumerate(data_test['image']):\n",
    "    img = imresize(img, (32, 32))\n",
    "    if len(img.shape) == 3:\n",
    "        data_test_x[idx, ...] = img.dot([0.299, 0.587, 0.144])\n",
    "    else:\n",
    "        data_test_x[idx, ...] = img\n",
    "        \n",
    "data_train_x = data_train_x.astype('float32')\n",
    "data_test_x = data_test_x.astype('float32')\n",
    "print 'icdar03 reshaped and grayscaled'"
   ]
  },
  {
   "cell_type": "code",
   "execution_count": 10,
   "metadata": {
    "collapsed": true
   },
   "outputs": [],
   "source": [
    "# Normalize by MuSigma\n",
    "data_train_x /= data_train_x.std(axis = None)\n",
    "data_train_x -= data_train_x.mean()\n",
    "\n",
    "data_test_x /= data_test_x.std(axis = None)\n",
    "data_test_x -= data_test_x.mean()"
   ]
  },
  {
   "cell_type": "code",
   "execution_count": 11,
   "metadata": {
    "collapsed": false
   },
   "outputs": [
    {
     "name": "stdout",
     "output_type": "stream",
     "text": [
      "(6185, 1, 32, 32) (6185,) (5430, 1, 32, 32) (5430,)\n"
     ]
    }
   ],
   "source": [
    "print data_train_x.shape, data_train_y.shape, data_test_x.shape, data_test_y.shape"
   ]
  },
  {
   "cell_type": "code",
   "execution_count": 24,
   "metadata": {
    "collapsed": true
   },
   "outputs": [],
   "source": [
    "class TransIterator(BatchIterator):\n",
    "    def fast_warp(self, img, tf, output_shape, mode='nearest'):\n",
    "        return transform._warps_cy._warp_fast(img, tf.params, output_shape=output_shape, mode=mode)\n",
    "    \n",
    "    def transform(self, Xb, yb):\n",
    "        Xb, yb = super(TransIterator, self).transform(Xb, yb)\n",
    "        \n",
    "        Xb_aug = np.empty(shape = (Xb.shape[0], 1, 32, 32), dtype = 'float32')\n",
    "        yb_aug = yb\n",
    "\n",
    "        # random rotations betweein -8 and 8 degrees\n",
    "        dorotate = randint(-5,5)\n",
    "\n",
    "        # random translations\n",
    "        trans_1 = randint(-3,3)\n",
    "        trans_2 = randint(-3,3)\n",
    "\n",
    "        # random zooms\n",
    "        zoom = uniform(0.8, 1.2)\n",
    "\n",
    "        # shearing\n",
    "        shear_deg = uniform(-10, 10)\n",
    "\n",
    "        # set the transform parameters for skimage.transform.warp\n",
    "        # have to shift to center and then shift back after transformation otherwise\n",
    "        # rotations will make image go out of frame\n",
    "        center_shift   = np.array((32, 32)) / 2. - 0.5\n",
    "        tform_center   = transform.SimilarityTransform(translation=-center_shift)\n",
    "        tform_uncenter = transform.SimilarityTransform(translation=center_shift)\n",
    "\n",
    "        tform_aug = transform.AffineTransform(rotation = np.deg2rad(dorotate),\n",
    "                                              scale =(1/zoom, 1/zoom),\n",
    "                                              shear = np.deg2rad(shear_deg),\n",
    "                                              translation = (trans_1, trans_2))\n",
    "\n",
    "        tform = tform_center + tform_aug + tform_uncenter\n",
    "        \n",
    "        for j in range(Xb.shape[0]):\n",
    "            Xb_aug[j][0] = self.fast_warp(Xb[j][0], tform,\n",
    "                                          output_shape = (32, 32))\n",
    "\n",
    "        return Xb_aug, yb_aug"
   ]
  },
  {
   "cell_type": "code",
   "execution_count": 40,
   "metadata": {
    "collapsed": true
   },
   "outputs": [],
   "source": [
    "# setting nn \n",
    "net = NeuralNet(\n",
    "    layers = [\n",
    "        ('input', layers.InputLayer),\n",
    "        ('conv1', layers.Conv2DLayer),\n",
    "        ('conv2', layers.Conv2DLayer),\n",
    "        ('pool3', layers.MaxPool2DLayer),\n",
    "        ('dropout4', layers.DropoutLayer),\n",
    "        ('conv5', layers.Conv2DLayer),\n",
    "        ('conv6', layers.Conv2DLayer),\n",
    "        ('pool7', layers.MaxPool2DLayer),\n",
    "        ('dropout8', layers.DropoutLayer),\n",
    "        ('conv9', layers.Conv2DLayer),\n",
    "        ('conv10', layers.Conv2DLayer),\n",
    "        ('dropout12', layers.DropoutLayer),\n",
    "        ('hidden13', layers.DenseLayer),\n",
    "        ('dropout14', layers.DropoutLayer),\n",
    "        ('hidden15', layers.DenseLayer),\n",
    "        ('dropout16', layers.DropoutLayer),\n",
    "        ('output', layers.DenseLayer),\n",
    "    ],\n",
    "\n",
    "    input_shape = (None, 1, 32, 32),\n",
    "    conv1_num_filters = 128, conv1_filter_size = (3, 3),\n",
    "    conv2_num_filters = 128, conv2_filter_size = (3, 3),\n",
    "    pool3_pool_size = (2, 2),\n",
    "    dropout4_p = 0.2,\n",
    "    conv5_num_filters = 256, conv5_filter_size = (3, 3),\n",
    "    conv6_num_filters = 256, conv6_filter_size = (3, 3),\n",
    "    pool7_pool_size = (2, 2),\n",
    "    dropout8_p = 0.2,\n",
    "    conv9_num_filters = 512, conv9_filter_size = (3, 3),\n",
    "    conv10_num_filters = 512, conv10_filter_size = (3, 3),\n",
    "    dropout12_p = 0.2,\n",
    "    hidden13_num_units = 1024,\n",
    "    dropout14_p = 0.5,\n",
    "    hidden15_num_units = 1024,\n",
    "    dropout16_p = 0.5,\n",
    "    output_num_units = 75, output_nonlinearity = softmax,\n",
    "\n",
    "    batch_iterator_train = TransIterator(batch_size = 2500),\n",
    "    batch_iterator_test = TransIterator(batch_size = 2500),\n",
    "\n",
    "    update = updates.adam,\n",
    "\n",
    "    use_label_encoder = True,\n",
    "    regression = False,\n",
    "    max_epochs = 300,\n",
    "    verbose = 1,\n",
    ")"
   ]
  },
  {
   "cell_type": "code",
   "execution_count": 50,
   "metadata": {
    "collapsed": false
   },
   "outputs": [
    {
     "name": "stdout",
     "output_type": "stream",
     "text": [
      "Loaded parameters to layer 'conv1' (shape 128x1x3x3).\n",
      "Loaded parameters to layer 'conv1' (shape 128).\n",
      "Loaded parameters to layer 'conv2' (shape 128x128x3x3).\n",
      "Loaded parameters to layer 'conv2' (shape 128).\n",
      "Loaded parameters to layer 'conv5' (shape 256x128x3x3).\n",
      "Loaded parameters to layer 'conv5' (shape 256).\n",
      "Loaded parameters to layer 'conv6' (shape 256x256x3x3).\n",
      "Loaded parameters to layer 'conv6' (shape 256).\n",
      "Loaded parameters to layer 'conv9' (shape 512x256x3x3).\n",
      "Loaded parameters to layer 'conv9' (shape 512).\n",
      "Loaded parameters to layer 'conv10' (shape 512x512x3x3).\n",
      "Loaded parameters to layer 'conv10' (shape 512).\n",
      "Loaded parameters to layer 'hidden13' (shape 512x1024).\n",
      "Loaded parameters to layer 'hidden13' (shape 1024).\n",
      "Loaded parameters to layer 'hidden15' (shape 1024x1024).\n",
      "Loaded parameters to layer 'hidden15' (shape 1024).\n",
      "Loaded parameters to layer 'output' (shape 1024x75).\n",
      "Loaded parameters to layer 'output' (shape 75).\n",
      "    303       0.62326       1.15406      0.54006      0.72419  11.46s\n",
      "    304       \u001b[36m0.38304\u001b[0m       1.16498      0.32880      0.75177  12.00s\n",
      "    305       0.67386       1.09023      0.61809      0.75965  11.93s\n",
      "    306       \u001b[36m0.37408\u001b[0m       \u001b[32m1.02409\u001b[0m      0.36528      0.76281  11.72s\n",
      "    307       0.49622       1.55125      0.31988      0.60205  11.81s\n",
      "    308       \u001b[36m0.35010\u001b[0m       1.26243      0.27732      0.71710  11.74s\n",
      "    309       0.44856       1.25422      0.35764      0.74941  11.99s\n",
      "    310       0.45866       1.26384      0.36291      0.72262  11.76s\n",
      "    311       0.41505       1.46523      0.28327      0.66667  11.78s\n",
      "    312       0.55323       1.57899      0.35037      0.63830  11.72s\n",
      "    313       0.88762       1.13708      0.78061      0.73286  12.09s\n",
      "    314       0.71472       1.26549      0.56478      0.69425  11.69s\n"
     ]
    }
   ],
   "source": [
    "# train nn\n",
    "net.load_params_from(os.path.join(model_root, 'recog_for_icdar.pkl')); # or load a pretrained model!\n",
    "net.fit(data_train_x, data_train_y);"
   ]
  },
  {
   "cell_type": "code",
   "execution_count": 42,
   "metadata": {
    "collapsed": false
   },
   "outputs": [
    {
     "name": "stdout",
     "output_type": "stream",
     "text": [
      "0.744935543278\n"
     ]
    }
   ],
   "source": [
    "pred = net.predict(data_test_x)\n",
    "print accuracy_score(data_test_y, pred)"
   ]
  },
  {
   "cell_type": "code",
   "execution_count": 43,
   "metadata": {
    "collapsed": false
   },
   "outputs": [
    {
     "name": "stdout",
     "output_type": "stream",
     "text": [
      "             precision    recall  f1-score   support\n",
      "\n",
      "          !       0.28      0.62      0.38         8\n",
      "          \"       0.00      0.00      0.00         1\n",
      "          &       1.00      0.43      0.60         7\n",
      "          '       0.29      0.25      0.27         8\n",
      "          (       0.00      0.00      0.00         1\n",
      "          )       0.17      1.00      0.29         1\n",
      "          ,       0.00      0.00      0.00         6\n",
      "          -       0.50      0.25      0.33         4\n",
      "          .       0.32      0.55      0.40        11\n",
      "          0       0.00      0.00      0.00        46\n",
      "          1       0.71      0.54      0.62        46\n",
      "          2       0.68      0.88      0.77        49\n",
      "          3       0.58      0.65      0.61        17\n",
      "          4       0.47      0.38      0.42        24\n",
      "          5       0.62      0.28      0.38        29\n",
      "          6       0.89      0.53      0.67        15\n",
      "          7       0.22      0.20      0.21        10\n",
      "          8       0.12      0.17      0.14         6\n",
      "          9       1.00      0.20      0.33        15\n",
      "          ?       0.00      0.00      0.00         1\n",
      "          A       0.82      0.84      0.83       223\n",
      "          B       0.97      0.62      0.75        47\n",
      "          C       0.81      0.78      0.80       153\n",
      "          D       0.78      0.66      0.72        74\n",
      "          E       0.91      0.87      0.89       322\n",
      "          F       0.88      0.74      0.80        76\n",
      "          G       0.88      0.68      0.77        63\n",
      "          H       0.88      0.87      0.87        97\n",
      "          I       0.60      0.56      0.58       163\n",
      "          J       0.36      0.38      0.37        13\n",
      "          K       0.84      0.67      0.75        46\n",
      "          L       0.88      0.70      0.78       131\n",
      "          M       0.67      0.72      0.69        89\n",
      "          N       0.93      0.80      0.86       153\n",
      "          O       0.61      0.66      0.63       187\n",
      "          P       0.89      0.75      0.81        91\n",
      "          Q       0.00      0.00      0.00         4\n",
      "          R       0.78      0.86      0.82       205\n",
      "          S       0.71      0.83      0.77       229\n",
      "          T       0.74      0.80      0.77       205\n",
      "          U       0.65      0.79      0.71        92\n",
      "          V       0.47      0.69      0.56        26\n",
      "          W       0.71      0.64      0.68        39\n",
      "          X       1.00      0.84      0.91        19\n",
      "          Y       0.88      0.86      0.87        42\n",
      "          Z       0.29      0.29      0.29         7\n",
      "          a       0.81      0.79      0.80       171\n",
      "          b       0.55      0.67      0.60        24\n",
      "          c       0.73      0.67      0.70       100\n",
      "          d       0.74      0.72      0.73        54\n",
      "          e       0.87      0.89      0.88       331\n",
      "          f       0.78      0.68      0.73        47\n",
      "          g       0.53      0.66      0.59        38\n",
      "          h       0.89      0.79      0.84        86\n",
      "          i       0.80      0.76      0.78       182\n",
      "          j       0.00      0.00      0.00         4\n",
      "          k       0.68      0.82      0.74        33\n",
      "          l       0.35      0.45      0.39       105\n",
      "          m       0.60      0.82      0.69        51\n",
      "          n       0.80      0.87      0.83       162\n",
      "          o       0.57      0.74      0.64       194\n",
      "          p       0.72      0.61      0.66        56\n",
      "          q       0.00      0.00      0.00         3\n",
      "          r       0.86      0.79      0.83       177\n",
      "          s       0.67      0.78      0.72       154\n",
      "          t       0.92      0.86      0.89       173\n",
      "          u       0.58      0.69      0.63        67\n",
      "          v       0.50      0.71      0.59        24\n",
      "          w       0.52      0.63      0.57        19\n",
      "          x       0.70      0.58      0.64        12\n",
      "          y       0.74      0.54      0.63        57\n",
      "          z       0.00      0.00      0.00         2\n",
      "          £       0.00      0.00      0.00         3\n",
      "          Ñ       0.00      0.00      0.00         0\n",
      "\n",
      "avg / total       0.75      0.74      0.74      5430\n",
      "\n"
     ]
    },
    {
     "name": "stderr",
     "output_type": "stream",
     "text": [
      "/home/cuda/anaconda2/envs/ff_env/lib/python2.7/site-packages/sklearn/metrics/classification.py:1076: UndefinedMetricWarning: Recall and F-score are ill-defined and being set to 0.0 in labels with no true samples.\n",
      "  'recall', 'true', average, warn_for)\n"
     ]
    }
   ],
   "source": [
    "print classification_report(data_test_y, pred)"
   ]
  },
  {
   "cell_type": "code",
   "execution_count": 48,
   "metadata": {
    "collapsed": false
   },
   "outputs": [],
   "source": [
    "net.save_params_to(os.path.join(model_root, 'recog_for_icdar.pkl'))"
   ]
  },
  {
   "cell_type": "code",
   "execution_count": null,
   "metadata": {
    "collapsed": true
   },
   "outputs": [],
   "source": []
  }
 ],
 "metadata": {
  "kernelspec": {
   "display_name": "Python 2",
   "language": "python",
   "name": "python2"
  },
  "language_info": {
   "codemirror_mode": {
    "name": "ipython",
    "version": 2
   },
   "file_extension": ".py",
   "mimetype": "text/x-python",
   "name": "python",
   "nbconvert_exporter": "python",
   "pygments_lexer": "ipython2",
   "version": "2.7.11"
  }
 },
 "nbformat": 4,
 "nbformat_minor": 0
}
